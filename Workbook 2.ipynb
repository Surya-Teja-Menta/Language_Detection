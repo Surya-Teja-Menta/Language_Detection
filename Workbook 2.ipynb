{
 "cells": [
  {
   "cell_type": "code",
   "execution_count": null,
   "id": "902fc1ef",
   "metadata": {},
   "outputs": [],
   "source": []
  },
  {
   "cell_type": "code",
   "execution_count": 21,
   "id": "d47b85c1",
   "metadata": {},
   "outputs": [],
   "source": [
    "import pandas as pd\n",
    "import string "
   ]
  },
  {
   "cell_type": "code",
   "execution_count": 14,
   "id": "4ee4d57d",
   "metadata": {},
   "outputs": [],
   "source": [
    "df=pd.read_csv('final.csv')"
   ]
  },
  {
   "cell_type": "code",
   "execution_count": null,
   "id": "c71f436d",
   "metadata": {},
   "outputs": [],
   "source": []
  },
  {
   "cell_type": "code",
   "execution_count": 15,
   "id": "76d2e448",
   "metadata": {},
   "outputs": [],
   "source": [
    "df.drop(['Unnamed: 0'],axis=1,inplace=True)"
   ]
  },
  {
   "cell_type": "code",
   "execution_count": 18,
   "id": "236553e6",
   "metadata": {},
   "outputs": [
    {
     "data": {
      "text/plain": [
       "English       1385\n",
       "French        1014\n",
       "Spanish        819\n",
       "Portugeese     739\n",
       "Italian        698\n",
       "Russian        692\n",
       "Sweedish       676\n",
       "Hindi          657\n",
       "Malayalam      594\n",
       "Telugu         594\n",
       "Bengali        594\n",
       "Dutch          546\n",
       "Arabic         536\n",
       "Turkish        474\n",
       "German         470\n",
       "Tamil          469\n",
       "Danish         428\n",
       "Kannada        369\n",
       "Greek          365\n",
       "Name: Language, dtype: int64"
      ]
     },
     "execution_count": 18,
     "metadata": {},
     "output_type": "execute_result"
    }
   ],
   "source": [
    "df.Language.value_counts()"
   ]
  },
  {
   "cell_type": "code",
   "execution_count": 22,
   "id": "92206613",
   "metadata": {},
   "outputs": [],
   "source": [
    "def rempunc(text):\n",
    "    for pun in string.punctuation:\n",
    "        text=text.replace(pun,'')\n",
    "    text=text.lower()\n",
    "    return (text)"
   ]
  },
  {
   "cell_type": "code",
   "execution_count": 23,
   "id": "ae8c41f0",
   "metadata": {},
   "outputs": [],
   "source": [
    "df['Text']=df['Text'].apply(rempunc)"
   ]
  },
  {
   "cell_type": "code",
   "execution_count": 25,
   "id": "ab292afd",
   "metadata": {},
   "outputs": [],
   "source": [
    "from sklearn.model_selection import train_test_split"
   ]
  },
  {
   "cell_type": "code",
   "execution_count": 29,
   "id": "11983468",
   "metadata": {},
   "outputs": [],
   "source": [
    "X=df.iloc[:,0]\n",
    "Y=df.iloc[:,1]"
   ]
  },
  {
   "cell_type": "code",
   "execution_count": 31,
   "id": "022b6823",
   "metadata": {},
   "outputs": [],
   "source": [
    "x_train,x_test,y_train,y_test=train_test_split(X,Y,test_size=0.2)"
   ]
  },
  {
   "cell_type": "code",
   "execution_count": 32,
   "id": "33db386f",
   "metadata": {},
   "outputs": [
    {
     "data": {
      "text/plain": [
       "((9695,), (2424,), (9695,), (2424,))"
      ]
     },
     "execution_count": 32,
     "metadata": {},
     "output_type": "execute_result"
    }
   ],
   "source": [
    "x_train.shape,x_test.shape,y_train.shape,y_test.shape"
   ]
  },
  {
   "cell_type": "code",
   "execution_count": 44,
   "id": "215ec93a",
   "metadata": {},
   "outputs": [],
   "source": [
    "from sklearn.linear_model import LogisticRegression\n",
    "from sklearn.pipeline import Pipeline\n",
    "from sklearn.naive_bayes import BernoulliNB\n",
    "from sklearn.feature_extraction.text import TfidfVectorizer\n",
    "from sklearn.ensemble import RandomForestClassifier,ExtraTreesClassifier "
   ]
  },
  {
   "cell_type": "code",
   "execution_count": 42,
   "id": "e35b7e90",
   "metadata": {},
   "outputs": [],
   "source": [
    "vec = TfidfVectorizer(ngram_range=(1,2),analyzer='char')"
   ]
  },
  {
   "cell_type": "code",
   "execution_count": 45,
   "id": "5cbf9b2c",
   "metadata": {},
   "outputs": [],
   "source": [
    "pipe1 = Pipeline([('vec',vec),('clf1',LogisticRegression())])\n",
    "pipe2 = Pipeline([('vec',vec),('clf2',RandomForestClassifier())])\n",
    "pipe3 = Pipeline([('vec',vec),('clf3',ExtraTreesClassifier())])\n",
    "pipe4 = Pipeline([('vec',vec),('clf4',BernoulliNB())])\n"
   ]
  },
  {
   "cell_type": "code",
   "execution_count": 46,
   "id": "419195c5",
   "metadata": {},
   "outputs": [
    {
     "data": {
      "text/plain": [
       "Pipeline(steps=[('vec', TfidfVectorizer(analyzer='char', ngram_range=(1, 2))),\n",
       "                ('clf1', LogisticRegression())])"
      ]
     },
     "execution_count": 46,
     "metadata": {},
     "output_type": "execute_result"
    }
   ],
   "source": [
    "pipe1.fit(x_train,y_train)"
   ]
  },
  {
   "cell_type": "code",
   "execution_count": 47,
   "id": "26e873a8",
   "metadata": {},
   "outputs": [
    {
     "data": {
      "text/plain": [
       "array(['Arabic', 'Bengali', 'Danish', 'Dutch', 'English', 'French',\n",
       "       'German', 'Greek', 'Hindi', 'Italian', 'Kannada', 'Malayalam',\n",
       "       'Portugeese', 'Russian', 'Spanish', 'Sweedish', 'Tamil', 'Telugu',\n",
       "       'Turkish'], dtype=object)"
      ]
     },
     "execution_count": 47,
     "metadata": {},
     "output_type": "execute_result"
    }
   ],
   "source": [
    "pipe1.classes_"
   ]
  },
  {
   "cell_type": "code",
   "execution_count": 48,
   "id": "df30590d",
   "metadata": {},
   "outputs": [
    {
     "data": {
      "text/plain": [
       "Pipeline(steps=[('vec', TfidfVectorizer(analyzer='char', ngram_range=(1, 2))),\n",
       "                ('clf4', BernoulliNB())])"
      ]
     },
     "execution_count": 48,
     "metadata": {},
     "output_type": "execute_result"
    }
   ],
   "source": [
    "pipe2.fit(x_train,y_train)\n",
    "pipe3.fit(x_train,y_train)\n",
    "pipe4.fit(x_train,y_train)"
   ]
  },
  {
   "cell_type": "code",
   "execution_count": 49,
   "id": "0da5d370",
   "metadata": {},
   "outputs": [],
   "source": [
    "pred1=pipe1.predict(x_test)\n",
    "pred2=pipe2.predict(x_test)\n",
    "pred3=pipe3.predict(x_test)\n",
    "pred4=pipe4.predict(x_test)"
   ]
  },
  {
   "cell_type": "code",
   "execution_count": 50,
   "id": "cd4173c3",
   "metadata": {},
   "outputs": [
    {
     "name": "stdout",
     "output_type": "stream",
     "text": [
      "Logistic Regression: 0.9785478547854786\n",
      "RandomForest Classifier: 0.9723597359735974\n",
      "Extra Tree Classifier: 0.9744224422442245\n",
      "Bernoulies NB Classifiew: 0.9438943894389439\n"
     ]
    }
   ],
   "source": [
    "from sklearn.metrics import *\n",
    "print('Logistic Regression:',accuracy_score(y_test,pred1))\n",
    "print('RandomForest Classifier:',accuracy_score(y_test,pred2))\n",
    "print('Extra Tree Classifier:',accuracy_score(y_test,pred3))\n",
    "print('Bernoulies NB Classifiew:',accuracy_score(y_test,pred4))"
   ]
  },
  {
   "cell_type": "code",
   "execution_count": 54,
   "id": "9167f537",
   "metadata": {},
   "outputs": [
    {
     "data": {
      "text/plain": [
       "array(['Dutch'], dtype=object)"
      ]
     },
     "execution_count": 54,
     "metadata": {},
     "output_type": "execute_result"
    }
   ],
   "source": [
    "pipe1.predict(['Ik hou van jou'])"
   ]
  },
  {
   "cell_type": "code",
   "execution_count": 55,
   "id": "e99b7e9c",
   "metadata": {},
   "outputs": [],
   "source": [
    "import pickle\n",
    "nf=open('model.pkl','wb')\n",
    "pickle.dump(pipe1,nf)\n",
    "nf.close()"
   ]
  },
  {
   "cell_type": "code",
   "execution_count": 56,
   "id": "6fc4cc37",
   "metadata": {},
   "outputs": [
    {
     "name": "stdout",
     "output_type": "stream",
     "text": [
      "Collecting streamlit\n",
      "  Downloading streamlit-1.13.0-py2.py3-none-any.whl (9.2 MB)\n",
      "\u001b[2K     \u001b[38;2;114;156;31m━━━━━━━━━━━━━━━━━━━━━━━━━━━━━━━━━━━━━━━━\u001b[0m \u001b[32m9.2/9.2 MB\u001b[0m \u001b[31m6.0 MB/s\u001b[0m eta \u001b[36m0:00:00\u001b[0mm eta \u001b[36m0:00:01\u001b[0m[36m0:00:01\u001b[0m\n",
      "\u001b[?25hCollecting validators>=0.2\n",
      "  Using cached validators-0.20.0.tar.gz (30 kB)\n",
      "  Preparing metadata (setup.py) ... \u001b[?25ldone\n",
      "\u001b[?25hCollecting protobuf!=3.20.2,<4,>=3.12\n",
      "  Downloading protobuf-3.20.3-cp37-cp37m-manylinux_2_5_x86_64.manylinux1_x86_64.whl (1.0 MB)\n",
      "\u001b[2K     \u001b[38;2;114;156;31m━━━━━━━━━━━━━━━━━━━━━━━━━━━━━━━━━━━━━━━━\u001b[0m \u001b[32m1.0/1.0 MB\u001b[0m \u001b[31m6.7 MB/s\u001b[0m eta \u001b[36m0:00:00\u001b[0m[36m0:00:01\u001b[0mm eta \u001b[36m0:00:01\u001b[0m\n",
      "\u001b[?25hCollecting rich>=10.11.0\n",
      "  Downloading rich-12.6.0-py3-none-any.whl (237 kB)\n",
      "\u001b[2K     \u001b[38;2;114;156;31m━━━━━━━━━━━━━━━━━━━━━━━━━━━━━━━━━━━━━━━\u001b[0m \u001b[32m237.5/237.5 kB\u001b[0m \u001b[31m6.9 MB/s\u001b[0m eta \u001b[36m0:00:00\u001b[0m\n",
      "\u001b[?25hCollecting gitpython!=3.1.19\n",
      "  Using cached GitPython-3.1.27-py3-none-any.whl (181 kB)\n",
      "Collecting toml\n",
      "  Using cached toml-0.10.2-py2.py3-none-any.whl (16 kB)\n",
      "Collecting blinker>=1.0.0\n",
      "  Using cached blinker-1.5-py2.py3-none-any.whl (12 kB)\n",
      "Requirement already satisfied: importlib-metadata>=1.4 in /home/surya/anaconda3/envs/ld/lib/python3.7/site-packages (from streamlit) (5.0.0)\n",
      "Requirement already satisfied: pandas>=0.21.0 in /home/surya/anaconda3/envs/ld/lib/python3.7/site-packages (from streamlit) (1.3.5)\n",
      "Collecting pympler>=0.9\n",
      "  Using cached Pympler-1.0.1-py3-none-any.whl (164 kB)\n",
      "Collecting pydeck>=0.1.dev5\n",
      "  Using cached pydeck-0.8.0b3-py2.py3-none-any.whl (4.7 MB)\n",
      "Collecting altair>=3.2.0\n",
      "  Using cached altair-4.2.0-py3-none-any.whl (812 kB)\n",
      "Requirement already satisfied: typing-extensions>=3.10.0.0 in /home/surya/anaconda3/envs/ld/lib/python3.7/site-packages (from streamlit) (4.3.0)\n",
      "Collecting click>=7.0\n",
      "  Using cached click-8.1.3-py3-none-any.whl (96 kB)\n",
      "Collecting watchdog\n",
      "  Using cached watchdog-2.1.9-py3-none-manylinux2014_x86_64.whl (78 kB)\n",
      "Collecting pillow>=6.2.0\n",
      "  Downloading Pillow-9.2.0-cp37-cp37m-manylinux_2_28_x86_64.whl (3.2 MB)\n",
      "\u001b[2K     \u001b[38;2;114;156;31m━━━━━━━━━━━━━━━━━━━━━━━━━━━━━━━━━━━━━━━━\u001b[0m \u001b[32m3.2/3.2 MB\u001b[0m \u001b[31m5.8 MB/s\u001b[0m eta \u001b[36m0:00:00\u001b[0m[36m0:00:01\u001b[0mm eta \u001b[36m0:00:01\u001b[0m\n",
      "\u001b[?25hCollecting semver\n",
      "  Using cached semver-2.13.0-py2.py3-none-any.whl (12 kB)\n",
      "Requirement already satisfied: requests>=2.4 in /home/surya/anaconda3/envs/ld/lib/python3.7/site-packages (from streamlit) (2.28.1)\n",
      "Collecting pyarrow>=4.0\n",
      "  Downloading pyarrow-9.0.0-cp37-cp37m-manylinux_2_17_x86_64.manylinux2014_x86_64.whl (35.3 MB)\n",
      "\u001b[2K     \u001b[38;2;114;156;31m━━━━━━━━━━━━━━━━━━━━━━━━━━━━━━━━━━━━━━━━\u001b[0m \u001b[32m35.3/35.3 MB\u001b[0m \u001b[31m6.0 MB/s\u001b[0m eta \u001b[36m0:00:00\u001b[0mm eta \u001b[36m0:00:01\u001b[0m[36m0:00:01\u001b[0m\n",
      "\u001b[?25hCollecting tzlocal>=1.1\n",
      "  Using cached tzlocal-4.2-py3-none-any.whl (19 kB)\n",
      "Requirement already satisfied: packaging>=14.1 in /home/surya/anaconda3/envs/ld/lib/python3.7/site-packages (from streamlit) (21.3)\n",
      "Requirement already satisfied: python-dateutil in /home/surya/anaconda3/envs/ld/lib/python3.7/site-packages (from streamlit) (2.8.2)\n",
      "Collecting cachetools>=4.0\n",
      "  Using cached cachetools-5.2.0-py3-none-any.whl (9.3 kB)\n",
      "Requirement already satisfied: numpy in /home/surya/anaconda3/envs/ld/lib/python3.7/site-packages (from streamlit) (1.21.6)\n",
      "Requirement already satisfied: tornado>=5.0 in /home/surya/anaconda3/envs/ld/lib/python3.7/site-packages (from streamlit) (6.2)\n",
      "Collecting toolz\n",
      "  Using cached toolz-0.12.0-py3-none-any.whl (55 kB)\n",
      "Requirement already satisfied: entrypoints in /home/surya/anaconda3/envs/ld/lib/python3.7/site-packages (from altair>=3.2.0->streamlit) (0.4)\n",
      "Requirement already satisfied: jinja2 in /home/surya/anaconda3/envs/ld/lib/python3.7/site-packages (from altair>=3.2.0->streamlit) (3.1.2)\n",
      "Requirement already satisfied: jsonschema>=3.0 in /home/surya/anaconda3/envs/ld/lib/python3.7/site-packages (from altair>=3.2.0->streamlit) (4.16.0)\n",
      "Collecting gitdb<5,>=4.0.1\n",
      "  Using cached gitdb-4.0.9-py3-none-any.whl (63 kB)\n",
      "Requirement already satisfied: zipp>=0.5 in /home/surya/anaconda3/envs/ld/lib/python3.7/site-packages (from importlib-metadata>=1.4->streamlit) (3.8.1)\n",
      "Requirement already satisfied: pyparsing!=3.0.5,>=2.0.2 in /home/surya/anaconda3/envs/ld/lib/python3.7/site-packages (from packaging>=14.1->streamlit) (3.0.9)\n",
      "Requirement already satisfied: pytz>=2017.3 in /home/surya/anaconda3/envs/ld/lib/python3.7/site-packages (from pandas>=0.21.0->streamlit) (2022.4)\n",
      "Requirement already satisfied: six>=1.5 in /home/surya/anaconda3/envs/ld/lib/python3.7/site-packages (from python-dateutil->streamlit) (1.16.0)\n",
      "Requirement already satisfied: urllib3<1.27,>=1.21.1 in /home/surya/anaconda3/envs/ld/lib/python3.7/site-packages (from requests>=2.4->streamlit) (1.26.12)\n",
      "Requirement already satisfied: idna<4,>=2.5 in /home/surya/anaconda3/envs/ld/lib/python3.7/site-packages (from requests>=2.4->streamlit) (3.4)\n",
      "Requirement already satisfied: charset-normalizer<3,>=2 in /home/surya/anaconda3/envs/ld/lib/python3.7/site-packages (from requests>=2.4->streamlit) (2.1.1)\n",
      "Requirement already satisfied: certifi>=2017.4.17 in /home/surya/anaconda3/envs/ld/lib/python3.7/site-packages (from requests>=2.4->streamlit) (2022.9.14)\n",
      "Requirement already satisfied: pygments<3.0.0,>=2.6.0 in /home/surya/anaconda3/envs/ld/lib/python3.7/site-packages (from rich>=10.11.0->streamlit) (2.13.0)\n",
      "Collecting commonmark<0.10.0,>=0.9.0\n",
      "  Using cached commonmark-0.9.1-py2.py3-none-any.whl (51 kB)\n",
      "Collecting backports.zoneinfo\n",
      "  Downloading backports.zoneinfo-0.2.1-cp37-cp37m-manylinux1_x86_64.whl (70 kB)\n",
      "\u001b[2K     \u001b[38;2;114;156;31m━━━━━━━━━━━━━━━━━━━━━━━━━━━━━━━━━━━━━━━━\u001b[0m \u001b[32m70.7/70.7 kB\u001b[0m \u001b[31m5.6 MB/s\u001b[0m eta \u001b[36m0:00:00\u001b[0m\n",
      "\u001b[?25hCollecting pytz-deprecation-shim\n",
      "  Using cached pytz_deprecation_shim-0.1.0.post0-py2.py3-none-any.whl (15 kB)\n",
      "Requirement already satisfied: decorator>=3.4.0 in /home/surya/anaconda3/envs/ld/lib/python3.7/site-packages (from validators>=0.2->streamlit) (5.1.1)\n",
      "Collecting smmap<6,>=3.0.1\n",
      "  Using cached smmap-5.0.0-py3-none-any.whl (24 kB)\n",
      "Requirement already satisfied: MarkupSafe>=2.0 in /home/surya/anaconda3/envs/ld/lib/python3.7/site-packages (from jinja2->altair>=3.2.0->streamlit) (2.1.1)\n",
      "Requirement already satisfied: attrs>=17.4.0 in /home/surya/anaconda3/envs/ld/lib/python3.7/site-packages (from jsonschema>=3.0->altair>=3.2.0->streamlit) (22.1.0)\n",
      "Requirement already satisfied: pyrsistent!=0.17.0,!=0.17.1,!=0.17.2,>=0.14.0 in /home/surya/anaconda3/envs/ld/lib/python3.7/site-packages (from jsonschema>=3.0->altair>=3.2.0->streamlit) (0.18.1)\n",
      "Requirement already satisfied: pkgutil-resolve-name>=1.3.10 in /home/surya/anaconda3/envs/ld/lib/python3.7/site-packages (from jsonschema>=3.0->altair>=3.2.0->streamlit) (1.3.10)\n",
      "Requirement already satisfied: importlib-resources>=1.4.0 in /home/surya/anaconda3/envs/ld/lib/python3.7/site-packages (from jsonschema>=3.0->altair>=3.2.0->streamlit) (5.9.0)\n",
      "Collecting tzdata\n",
      "  Downloading tzdata-2022.4-py2.py3-none-any.whl (336 kB)\n",
      "\u001b[2K     \u001b[38;2;114;156;31m━━━━━━━━━━━━━━━━━━━━━━━━━━━━━━━━━━━━━━━\u001b[0m \u001b[32m336.7/336.7 kB\u001b[0m \u001b[31m6.1 MB/s\u001b[0m eta \u001b[36m0:00:00\u001b[0m MB/s\u001b[0m eta \u001b[36m0:00:01\u001b[0m\n",
      "\u001b[?25hBuilding wheels for collected packages: validators\n",
      "  Building wheel for validators (setup.py) ... \u001b[?25ldone\n",
      "\u001b[?25h  Created wheel for validators: filename=validators-0.20.0-py3-none-any.whl size=19579 sha256=d062817ea5d9b76504d28dd52a499385392578012605117fc3b2883b899e6eb2\n",
      "  Stored in directory: /home/surya/.cache/pip/wheels/5f/55/ab/36a76989f7f88d9ca7b1f68da6d94252bb6a8d6ad4f18e04e9\n",
      "Successfully built validators\n",
      "Installing collected packages: commonmark, watchdog, validators, tzdata, toolz, toml, smmap, semver, rich, pympler, pyarrow, protobuf, pillow, cachetools, blinker, backports.zoneinfo, pytz-deprecation-shim, pydeck, gitdb, click, tzlocal, gitpython, altair, streamlit\n",
      "Successfully installed altair-4.2.0 backports.zoneinfo-0.2.1 blinker-1.5 cachetools-5.2.0 click-8.1.3 commonmark-0.9.1 gitdb-4.0.9 gitpython-3.1.27 pillow-9.2.0 protobuf-3.20.3 pyarrow-9.0.0 pydeck-0.8.0b3 pympler-1.0.1 pytz-deprecation-shim-0.1.0.post0 rich-12.6.0 semver-2.13.0 smmap-5.0.0 streamlit-1.13.0 toml-0.10.2 toolz-0.12.0 tzdata-2022.4 tzlocal-4.2 validators-0.20.0 watchdog-2.1.9\n"
     ]
    }
   ],
   "source": [
    "!pip install streamlit"
   ]
  },
  {
   "cell_type": "code",
   "execution_count": null,
   "id": "eb6de5c3",
   "metadata": {},
   "outputs": [],
   "source": []
  }
 ],
 "metadata": {
  "kernelspec": {
   "display_name": "Python 3 (ipykernel)",
   "language": "python",
   "name": "python3"
  },
  "language_info": {
   "codemirror_mode": {
    "name": "ipython",
    "version": 3
   },
   "file_extension": ".py",
   "mimetype": "text/x-python",
   "name": "python",
   "nbconvert_exporter": "python",
   "pygments_lexer": "ipython3",
   "version": "3.7.13"
  }
 },
 "nbformat": 4,
 "nbformat_minor": 5
}
